{
  "nbformat": 4,
  "nbformat_minor": 0,
  "metadata": {
    "colab": {
      "provenance": [],
      "authorship_tag": "ABX9TyN6Wt+ciJTs2W65AwsVKYQF",
      "include_colab_link": true
    },
    "kernelspec": {
      "name": "python3",
      "display_name": "Python 3"
    },
    "language_info": {
      "name": "python"
    }
  },
  "cells": [
    {
      "cell_type": "markdown",
      "metadata": {
        "id": "view-in-github",
        "colab_type": "text"
      },
      "source": [
        "<a href=\"https://colab.research.google.com/github/techstackadhit/predict-stack/blob/develop/setup_colab.ipynb\" target=\"_parent\"><img src=\"https://colab.research.google.com/assets/colab-badge.svg\" alt=\"Open In Colab\"/></a>"
      ]
    },
    {
      "cell_type": "code",
      "execution_count": null,
      "metadata": {
        "colab": {
          "base_uri": "https://localhost:8080/"
        },
        "id": "8W87DnTfGE17",
        "outputId": "cf7c6e73-b96a-419a-e6d5-dcd31a0c1999"
      },
      "outputs": [
        {
          "output_type": "stream",
          "name": "stdout",
          "text": [
            "GitHub Token: ··········\n",
            "Cloning into 'predict-stack'...\n",
            "remote: Enumerating objects: 112, done.\u001b[K\n",
            "remote: Counting objects: 100% (101/101), done.\u001b[K\n",
            "remote: Compressing objects: 100% (87/87), done.\u001b[K\n",
            "remote: Total 112 (delta 35), reused 0 (delta 0), pack-reused 11 (from 1)\u001b[K\n",
            "Receiving objects: 100% (112/112), 37.94 KiB | 1.41 MiB/s, done.\n",
            "Resolving deltas: 100% (36/36), done.\n"
          ]
        }
      ],
      "source": [
        "import getpass\n",
        "\n",
        "token = getpass.getpass('GitHub Token: ')\n",
        "repo = \"techstackadhit/predict-stack\"\n",
        "branch = \"develop\"\n",
        "\n",
        "!git clone --branch {branch} https://{token}@github.com/{repo}.git"
      ]
    }
  ]
}